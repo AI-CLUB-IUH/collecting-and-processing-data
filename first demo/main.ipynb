{
 "cells": [
  {
   "cell_type": "markdown",
   "id": "b21bcef3-04ad-4e9b-881f-e0c672a1a8ef",
   "metadata": {},
   "source": [
    "### Đọc dữ liệu từ một trang web"
   ]
  },
  {
   "cell_type": "code",
   "execution_count": 3,
   "id": "643132fc-ba0b-47cf-94cd-29132baa3d90",
   "metadata": {},
   "outputs": [
    {
     "name": "stdout",
     "output_type": "stream",
     "text": [
      "b'<html>\\n<head>\\n<title>A Useful Page</title>\\n</head>\\n<body>\\n<h1>An Interesting Title</h1>\\n<div>\\nLorem ipsum dolor sit amet, consectetur adipisicing elit, sed do eiusmod tempor incididunt ut labore et dolore magna aliqua. Ut enim ad minim veniam, quis nostrud exercitation ullamco laboris nisi ut aliquip ex ea commodo consequat. Duis aute irure dolor in reprehenderit in voluptate velit esse cillum dolore eu fugiat nulla pariatur. Excepteur sint occaecat cupidatat non proident, sunt in culpa qui officia deserunt mollit anim id est laborum.\\n</div>\\n</body>\\n</html>\\n'\n"
     ]
    }
   ],
   "source": [
    "from urllib.request import urlopen\n",
    "html = urlopen('http://pythonscraping.com/pages/page1.html')\n",
    "print(html.read())"
   ]
  },
  {
   "cell_type": "markdown",
   "id": "b9f9a0e3-787f-4cad-8857-ad336bfc963f",
   "metadata": {},
   "source": [
    "### Làm quen với Beautiful Soup"
   ]
  },
  {
   "cell_type": "code",
   "execution_count": 7,
   "id": "a967dd65-3dcb-4a5a-b718-558b1be29817",
   "metadata": {},
   "outputs": [],
   "source": [
    "from urllib.request import urlopen\n",
    "from bs4 import BeautifulSoup\n",
    "\n",
    "html = urlopen('http://pythonscraping.com/pages/page1.html')\n",
    "bs = BeautifulSoup(html.read(), 'html.parser')"
   ]
  },
  {
   "cell_type": "code",
   "execution_count": 6,
   "id": "020ad7f1-f00c-4198-84d4-a42c9468fad3",
   "metadata": {},
   "outputs": [
    {
     "data": {
      "text/plain": [
       "<html>\n",
       "<head>\n",
       "<title>A Useful Page</title>\n",
       "</head>\n",
       "<body>\n",
       "<h1>An Interesting Title</h1>\n",
       "<div>\n",
       "Lorem ipsum dolor sit amet, consectetur adipisicing elit, sed do eiusmod tempor incididunt ut labore et dolore magna aliqua. Ut enim ad minim veniam, quis nostrud exercitation ullamco laboris nisi ut aliquip ex ea commodo consequat. Duis aute irure dolor in reprehenderit in voluptate velit esse cillum dolore eu fugiat nulla pariatur. Excepteur sint occaecat cupidatat non proident, sunt in culpa qui officia deserunt mollit anim id est laborum.\n",
       "</div>\n",
       "</body>\n",
       "</html>"
      ]
     },
     "execution_count": 6,
     "metadata": {},
     "output_type": "execute_result"
    }
   ],
   "source": [
    "bs"
   ]
  },
  {
   "cell_type": "code",
   "execution_count": 8,
   "id": "0c41dac0-c663-4c76-bf48-aca5b678424a",
   "metadata": {},
   "outputs": [
    {
     "data": {
      "text/plain": [
       "<h1>An Interesting Title</h1>"
      ]
     },
     "execution_count": 8,
     "metadata": {},
     "output_type": "execute_result"
    }
   ],
   "source": [
    "bs.h1"
   ]
  },
  {
   "cell_type": "code",
   "execution_count": 9,
   "id": "ebfb68a8-1e69-4683-9f40-d5ac38aaceb7",
   "metadata": {},
   "outputs": [
    {
     "data": {
      "text/plain": [
       "<div>\n",
       "Lorem ipsum dolor sit amet, consectetur adipisicing elit, sed do eiusmod tempor incididunt ut labore et dolore magna aliqua. Ut enim ad minim veniam, quis nostrud exercitation ullamco laboris nisi ut aliquip ex ea commodo consequat. Duis aute irure dolor in reprehenderit in voluptate velit esse cillum dolore eu fugiat nulla pariatur. Excepteur sint occaecat cupidatat non proident, sunt in culpa qui officia deserunt mollit anim id est laborum.\n",
       "</div>"
      ]
     },
     "execution_count": 9,
     "metadata": {},
     "output_type": "execute_result"
    }
   ],
   "source": [
    "bs.div"
   ]
  },
  {
   "cell_type": "markdown",
   "id": "d95be3e1-c037-4d6a-8075-3fda68847d79",
   "metadata": {},
   "source": [
    "#### Cấu trúc HTML"
   ]
  },
  {
   "cell_type": "markdown",
   "id": "367bc698-a84b-44c1-98cb-98c376e060a8",
   "metadata": {},
   "source": [
    "![html_structure](assets/html_structure.png)"
   ]
  },
  {
   "cell_type": "markdown",
   "id": "75072069-b74d-4a12-a0b3-af6464d2a662",
   "metadata": {},
   "source": [
    "### Những ví dụ về việc kiểm soát lỗi khi đọc web\n",
    "Các lỗi có thể có:\n",
    "- Trang web không tồn tại trên server\n",
    "- Server không tồn tại"
   ]
  },
  {
   "cell_type": "code",
   "execution_count": 14,
   "id": "20785999-4916-4590-a1ac-b68be77b2c11",
   "metadata": {},
   "outputs": [
    {
     "name": "stdout",
     "output_type": "stream",
     "text": [
      "Không chạy vào except\n"
     ]
    }
   ],
   "source": [
    "from urllib.request import urlopen\n",
    "from urllib.error import HTTPError\n",
    "\n",
    "try:\n",
    "    html = urlopen('http://pythonscraping.com/pages/page1.html')\n",
    "except HTTPError as e:\n",
    "    print(e)\n",
    "else:\n",
    "    print('Không chạy vào except')"
   ]
  },
  {
   "cell_type": "code",
   "execution_count": 15,
   "id": "dd2f236a-d0ab-42c8-8c3c-daf5b01b6119",
   "metadata": {},
   "outputs": [
    {
     "name": "stdout",
     "output_type": "stream",
     "text": [
      "Nó đã chạy rồi nè\n"
     ]
    }
   ],
   "source": [
    "from urllib.request import urlopen\n",
    "from urllib.error import HTTPError\n",
    "from urllib.error import URLError\n",
    "\n",
    "try:\n",
    "    html = urlopen('http://pythonscraping.com/pages/page1.html')\n",
    "except HTTPError as e:\n",
    "    print(e)\n",
    "except URLError as e:\n",
    "    print('Không thể tìm thấy server')\n",
    "else:\n",
    "    print('Nó đã chạy rồi nè')"
   ]
  },
  {
   "cell_type": "markdown",
   "id": "b77488a7-e211-443f-9b85-3d71b6c70684",
   "metadata": {},
   "source": [
    "### Một ví dụ về việc truy cập thẻ HTML không tồn tại trong Beautiful Soup"
   ]
  },
  {
   "cell_type": "code",
   "execution_count": 20,
   "id": "dd0a98ea-56f0-4795-9039-88e11fc01e29",
   "metadata": {},
   "outputs": [
    {
     "name": "stdout",
     "output_type": "stream",
     "text": [
      "Không thể tìm thấy thẻ\n"
     ]
    },
    {
     "name": "stderr",
     "output_type": "stream",
     "text": [
      "C:\\Users\\nvatu\\anaconda3\\lib\\site-packages\\bs4\\element.py:1444: UserWarning: .nonExistingTag is deprecated, use .find(\"nonExisting\") instead. If you really were looking for a tag called nonExistingTag, use .find(\"nonExistingTag\")\n",
      "  warnings.warn(\n"
     ]
    }
   ],
   "source": [
    "try:\n",
    "    badContent = bs.nonExistingTag.anotherTag\n",
    "except AttributeError as e:\n",
    "    print('Không thể tìm thấy thẻ')\n",
    "else:\n",
    "    if badContent == None:\n",
    "        print('Không thể tìm thấy thẻ')\n",
    "    else:\n",
    "        print(badContent)"
   ]
  },
  {
   "cell_type": "markdown",
   "id": "29d6b6ee-2b8b-4bb4-a7c6-d6891b76da8a",
   "metadata": {},
   "source": [
    "### Một ví dụ khác hoàn thiện hơn về việc lấy tiêu đề của một trang web"
   ]
  },
  {
   "cell_type": "code",
   "execution_count": 25,
   "id": "91efb81a-f492-4059-986c-f6ac320f63b7",
   "metadata": {},
   "outputs": [
    {
     "name": "stdout",
     "output_type": "stream",
     "text": [
      "<h1>An Interesting Title</h1>\n"
     ]
    }
   ],
   "source": [
    "from urllib.request import urlopen\n",
    "from urllib.error import HTTPError\n",
    "from bs4 import BeautifulSoup\n",
    "\n",
    "def getTitle(url):\n",
    "    try:\n",
    "        # kiểm tra lỗi đọc địa chỉ trang web\n",
    "        html = urlopen(url)\n",
    "    except HTTPError as e:\n",
    "        return None\n",
    "    try:\n",
    "        # kiểm tra lỗi đọc các thẻ HTML của trang web\n",
    "        bs = BeautifulSoup(html.read(), 'html.parser')\n",
    "        title = bs.body.h1\n",
    "    except AttributeError as e:\n",
    "        return None\n",
    "    return title\n",
    "\n",
    "title = getTitle('http://www.pythonscraping.com/pages/page1.html')\n",
    "\n",
    "if title == None:\n",
    "    print('Title could not be found')\n",
    "else:\n",
    "    print(title)"
   ]
  },
  {
   "cell_type": "markdown",
   "id": "3077ca55-28e3-49d9-8082-fc5f9eadb209",
   "metadata": {},
   "source": [
    "#### Có thể tìm hiểu sâu hơn: HTML\n",
    "#### Tips: Đọc trong sách để có thể tìm ra được các từ khóa khác."
   ]
  }
 ],
 "metadata": {
  "kernelspec": {
   "display_name": "Python 3",
   "language": "python",
   "name": "python3"
  },
  "language_info": {
   "codemirror_mode": {
    "name": "ipython",
    "version": 3
   },
   "file_extension": ".py",
   "mimetype": "text/x-python",
   "name": "python",
   "nbconvert_exporter": "python",
   "pygments_lexer": "ipython3",
   "version": "3.8.8"
  }
 },
 "nbformat": 4,
 "nbformat_minor": 5
}
