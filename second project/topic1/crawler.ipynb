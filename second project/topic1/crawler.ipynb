{
 "cells": [
  {
   "cell_type": "markdown",
   "id": "c68f0b41-1afb-4afb-9317-aee7c209bdeb",
   "metadata": {},
   "source": [
    "# 0. Import các thư viện"
   ]
  },
  {
   "cell_type": "code",
   "execution_count": 1,
   "id": "75fb076c-a8db-4d9f-925d-b02d4d4698bf",
   "metadata": {},
   "outputs": [],
   "source": [
    "import requests\n",
    "import pandas as pd\n",
    "from collections import defaultdict\n",
    "from bs4 import BeautifulSoup"
   ]
  },
  {
   "cell_type": "markdown",
   "id": "674fc046-7a3f-46aa-9caa-578f4029bd32",
   "metadata": {},
   "source": [
    "# 1. Phân tích cách cào trên 1 trang và cào từng game"
   ]
  },
  {
   "cell_type": "code",
   "execution_count": 2,
   "id": "223fb484-2ff6-4632-83ba-9275cca42a99",
   "metadata": {},
   "outputs": [],
   "source": [
    "# Hàm này nhận vào index và trả về địa chỉ của trang\n",
    "\n",
    "# def game_page(page):\n",
    "#     return f'https://vi.y8.com/?page={page}'\n",
    "\n",
    "game_page = lambda page: f'https://vi.y8.com/?page={page}'"
   ]
  },
  {
   "cell_type": "code",
   "execution_count": 3,
   "id": "c573bb25-7986-4fe5-8995-c81c8238a49e",
   "metadata": {},
   "outputs": [
    {
     "data": {
      "text/plain": [
       "'https://vi.y8.com/?page=1'"
      ]
     },
     "execution_count": 3,
     "metadata": {},
     "output_type": "execute_result"
    }
   ],
   "source": [
    "game_page(1)"
   ]
  },
  {
   "cell_type": "code",
   "execution_count": 4,
   "id": "7aea3714-f2e2-4c4a-8408-db48601dc306",
   "metadata": {},
   "outputs": [],
   "source": [
    "# Gửi request lấy thông tin trang 1 và parse html\n",
    "res = requests.get(game_page(1))\n",
    "soup = BeautifulSoup(res.content, 'html.parser')"
   ]
  },
  {
   "cell_type": "code",
   "execution_count": 5,
   "id": "a0fb657f-f4f2-454e-a67a-2e64b2a10fd4",
   "metadata": {},
   "outputs": [
    {
     "data": {
      "text/plain": [
       "'https://vi.y8.com/games/8ball_online'"
      ]
     },
     "execution_count": 5,
     "metadata": {},
     "output_type": "execute_result"
    }
   ],
   "source": [
    "# Lấy all link game trong 1 trang\n",
    "\n",
    "# games_url = []\n",
    "# for x in soup.select('div.thumbarea > a'):\n",
    "#     games_url.append(x['href'])\n",
    "# games_url[0]\n",
    "\n",
    "games_url = list(map(lambda x: x['href'], soup.select('div.thumbarea > a')))\n",
    "games_url[0]"
   ]
  },
  {
   "cell_type": "code",
   "execution_count": 6,
   "id": "e8885297-9b2e-429d-af95-4eda4efcfce8",
   "metadata": {},
   "outputs": [],
   "source": [
    "# Gửi request lấy thông tin 1 game cụ thể\n",
    "res = requests.get(games_url[0])\n",
    "soup = BeautifulSoup(res.content, 'html.parser')"
   ]
  },
  {
   "cell_type": "code",
   "execution_count": 7,
   "id": "38300b87-04fe-4576-9240-05a010b59fb2",
   "metadata": {},
   "outputs": [],
   "source": [
    "# Phần thông tin chứa tên và sub\n",
    "left_part = soup.select('div.left-part')[-1]"
   ]
  },
  {
   "cell_type": "code",
   "execution_count": 8,
   "id": "ee014777-8ccd-4a06-951f-523fe078ee3a",
   "metadata": {},
   "outputs": [
    {
     "data": {
      "text/plain": [
       "'8Ball Online'"
      ]
     },
     "execution_count": 8,
     "metadata": {},
     "output_type": "execute_result"
    }
   ],
   "source": [
    "# Lấy tên game\n",
    "name = left_part.select_one('h1').text.strip()\n",
    "name"
   ]
  },
  {
   "cell_type": "code",
   "execution_count": 9,
   "id": "5c39fbcb-98c7-445c-8bc4-5794e445b30c",
   "metadata": {},
   "outputs": [
    {
     "data": {
      "text/plain": [
       "'2,077,678'"
      ]
     },
     "execution_count": 9,
     "metadata": {},
     "output_type": "execute_result"
    }
   ],
   "source": [
    "# Lấy sub\n",
    "sub = left_part.select_one('span.sub-infos-line > span').text.split(' ')[0]\n",
    "sub"
   ]
  },
  {
   "cell_type": "code",
   "execution_count": 10,
   "id": "23b2214c-4060-455d-9ee5-a29beaea900d",
   "metadata": {},
   "outputs": [
    {
     "data": {
      "text/plain": [
       "'66.6%'"
      ]
     },
     "execution_count": 10,
     "metadata": {},
     "output_type": "execute_result"
    }
   ],
   "source": [
    "rating = soup.select_one('div.rating').text.strip()\n",
    "rating"
   ]
  },
  {
   "cell_type": "code",
   "execution_count": 11,
   "id": "9aa658d3-363a-4b4f-830b-83a7fd03377f",
   "metadata": {},
   "outputs": [
    {
     "data": {
      "text/plain": [
       "'Challenge a real opponent from all around the world in this multiplayer version of the popular sports game! 8 Ball Pool is played with 15 numbered balls from 1 to 15 and one white cue ball. To win a match, you have to be the first to pocket the black 8 ball legally. Simply hit play to start the matching process and find an opponent. After the initial break, one of the players has to pocket the solid-colored balls from 1 to 7 while the other tries to remove all striped balls from 9 to 15 from the table. Players are not allowed to pocket the 8 ball until they have completely pocketed their group of striped or solid balls. Try to sink as many of your balls in a row as you can - as soon as you scratch or miss a pocket, it is the other player’s turn!'"
      ]
     },
     "execution_count": 11,
     "metadata": {},
     "output_type": "execute_result"
    }
   ],
   "source": [
    "desc = soup.select_one('div.ltr.description').text.strip()\n",
    "desc"
   ]
  },
  {
   "cell_type": "code",
   "execution_count": 12,
   "id": "670ada5f-20a7-4bc2-8b0e-ef202190295a",
   "metadata": {},
   "outputs": [
    {
     "data": {
      "text/plain": [
       "'16 Jul 2019'"
      ]
     },
     "execution_count": 12,
     "metadata": {},
     "output_type": "execute_result"
    }
   ],
   "source": [
    "date = soup.select('div.item > span.data')[-1].text.strip()\n",
    "date"
   ]
  },
  {
   "cell_type": "code",
   "execution_count": 13,
   "id": "6e23c5dd-df40-4815-a70d-4e6c816d07bf",
   "metadata": {},
   "outputs": [
    {
     "name": "stdout",
     "output_type": "stream",
     "text": [
      "list tags string: ['1 Người chơi', 'Thể thao', 'Nhiều người chơi', 'Kỹ năng Dùng chuột', 'Bi-a lỗ', 'Timing', 'Android', 'HTML5', 'Miễn phí', 'Di động', 'iPhone', 'iPad', 'Cảm ứng']\n",
      "a tags string: 1 Người chơi, Thể thao, Nhiều người chơi, Kỹ năng Dùng chuột, Bi-a lỗ, Timing, Android, HTML5, Miễn phí, Di động, iPhone, iPad, Cảm ứng\n"
     ]
    }
   ],
   "source": [
    "# Hàm này lấy toàn bộ tag của 1 trò chơi, dòng 2 dùng để nối các chuỗi tag thành 1 chuỗi\n",
    "# sử dụng dấu phẩy (,)\n",
    "\n",
    "tmp = list(map(lambda x: x.text, soup.select('div.col-md-12.tags-list > a')))\n",
    "tags = ', '.join(tmp)\n",
    "print('list tags string:', tmp)\n",
    "print('a tags string:', tags)"
   ]
  },
  {
   "cell_type": "markdown",
   "id": "0766009f-bf99-4881-a54f-75d84d9bd52d",
   "metadata": {},
   "source": [
    "# 2. Toàn bộ code cào"
   ]
  },
  {
   "cell_type": "code",
   "execution_count": 14,
   "id": "6daf8c6b-0552-47c6-a8df-4e51ef0013b4",
   "metadata": {
    "tags": []
   },
   "outputs": [
    {
     "name": "stdout",
     "output_type": "stream",
     "text": [
      "Page success: 1, number of games: 64\n"
     ]
    }
   ],
   "source": [
    "# Sử dụng defaultdict với từng phần tử là một list\n",
    "# hiểu đơn giản là dict với key là một string và value là một list \n",
    "games = defaultdict(list)\n",
    "\n",
    "# 17 - 1 = 16 trang * 64 = 1024 trò (hoặc có thể đếm số lượng riêng vì có thể \n",
    "# có một số game không cào được, nên sử dụng try - except (khuyến khích tìm hiểu))\n",
    "for page in range(1, 17):\n",
    "    all_games = requests.get(game_page(page))\n",
    "    soup = BeautifulSoup(all_games.content, 'html.parser')\n",
    "\n",
    "    games_url = list(map(lambda x: x['href'], soup.select('div.thumbarea > a')))\n",
    "\n",
    "    for game in games_url:\n",
    "        res = requests.get(game)\n",
    "        soup = BeautifulSoup(res.content, 'html.parser')\n",
    "\n",
    "        left_part = soup.select('div.left-part')[-1]\n",
    "        name = left_part.select_one('h1').text.strip()\n",
    "        subs = left_part.select_one('span.sub-infos-line > span').text.split(' ')[0]\n",
    "        rate = soup.select_one('div.rating').text.strip()\n",
    "        desc = soup.select_one('div.ltr.description').text.strip()\n",
    "        date = soup.select('div.item > span.data')[-1].text.strip()\n",
    "        temp = list(map(lambda x: x.text, soup.select('div.col-md-12.tags-list > a')))\n",
    "        tags = ', '.join(temp)\n",
    "\n",
    "        games['name'].append(name)\n",
    "        games['subs'].append(subs)\n",
    "        games['rate'].append(rate)\n",
    "        games['desc'].append(desc)\n",
    "        games['date'].append(date)\n",
    "        games['tags'].append(tags)\n",
    "        games['link'].append(game)\n",
    "\n",
    "    print(f'Page success: {page}, number of games: {len(games[\"name\"])}')\n",
    "\n",
    "# Khúc này để xuất data ra file csv, dữ liệu mỗi lần cào có thể khác nhau\n",
    "# do bên Y8 người ta sắp xếp lại xu hướng game\n",
    "pd.DataFrame(games).to_csv('assets/games_data.csv', index=False, header=True)"
   ]
  }
 ],
 "metadata": {
  "kernelspec": {
   "display_name": "Python 3 (ipykernel)",
   "language": "python",
   "name": "python3"
  },
  "language_info": {
   "codemirror_mode": {
    "name": "ipython",
    "version": 3
   },
   "file_extension": ".py",
   "mimetype": "text/x-python",
   "name": "python",
   "nbconvert_exporter": "python",
   "pygments_lexer": "ipython3",
   "version": "3.9.7"
  }
 },
 "nbformat": 4,
 "nbformat_minor": 5
}
